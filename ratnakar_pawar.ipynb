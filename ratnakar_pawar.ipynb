{
 "cells": [
  {
   "cell_type": "markdown",
   "metadata": {},
   "source": [
    "# 1                      Predicting Insurance Claims Severity"
   ]
  },
  {
   "cell_type": "markdown",
   "metadata": {},
   "source": [
    "### 2 Group members\n",
    "* ### Dhanashree Dhage  ddhage@hawk.iit.edu    A20381490\n",
    "* ### Ratnakar Pawar    rpawar2@hawk.iit.edu   A20375112 "
   ]
  },
  {
   "cell_type": "markdown",
   "metadata": {},
   "source": [
    "### 3 Project Description"
   ]
  },
  {
   "cell_type": "markdown",
   "metadata": {},
   "source": [
    "\n",
    "### We have anonymiezed insurance claims data given by Allscripts as part of ongoing Kaggle challange [Link - https://www.kaggle.com/c/allstate-claims-severity]. The objetive is to predict claims severity( Y- Loss value) for the chance of an insurance claim using a set of continuous and categorical variables, provided with the problem.\n",
    "\n",
    "### Each row in the given dataset represents an insurance claim. You must predict the value for the 'loss' column. Variables prefaced with 'cat' are categorical, while those prefaced with 'cont' are continuous."
   ]
  },
  {
   "cell_type": "code",
   "execution_count": 1,
   "metadata": {
    "collapsed": true
   },
   "outputs": [],
   "source": [
    "from sklearn.preprocessing import LabelEncoder\n",
    "from sklearn.preprocessing import  MinMaxScaler\n",
    "import pandas as pd\n",
    "import numpy as np\n",
    "from matplotlib import pyplot"
   ]
  },
  {
   "cell_type": "markdown",
   "metadata": {},
   "source": [
    "### 4 Data Loading"
   ]
  },
  {
   "cell_type": "code",
   "execution_count": 2,
   "metadata": {
    "collapsed": false
   },
   "outputs": [],
   "source": [
    "### to run it fro URL\n",
    "###File also at https://github.com/rpwr021/Kaggle_allstate/blob/master/train.csv\n",
    "\n",
    "#For Local Data\n",
    "#pdata = pd.read_csv(\"./data/train.csv\")\n",
    "\n",
    "import io\n",
    "import requests\n",
    "url=\"https://raw.githubusercontent.com/rpwr021/Kaggle_allstate/master/train.csv\"\n",
    "s=requests.get(url).content\n",
    "pdata=pd.read_csv(io.StringIO(s.decode('utf-8')))\n",
    "\n",
    "\n",
    "### Drop index column\n",
    "pdata.drop('id',axis=1,inplace=True)\n"
   ]
  },
  {
   "cell_type": "markdown",
   "metadata": {},
   "source": [
    "### Preprocessing data "
   ]
  },
  {
   "cell_type": "code",
   "execution_count": 3,
   "metadata": {
    "collapsed": false
   },
   "outputs": [
    {
     "name": "stdout",
     "output_type": "stream",
     "text": [
      "['cont1', 'cont2', 'cont3', 'cont4', 'cont5', 'cont6', 'cont7', 'cont8', 'cont9', 'cont10', 'cont11', 'cont12', 'cont13', 'cont14', 'loss']\n"
     ]
    }
   ],
   "source": [
    "catFeatures = []\n",
    "NumFeatures = []\n",
    "labels = []\n",
    "\n",
    "\n",
    "for col,x in pdata.iloc[1,:].iteritems():\n",
    "    if(not str(x).isalpha()):\n",
    "        NumFeatures.append(col)\n",
    "    else:\n",
    "        catFeatures.append(col)\n",
    "\n",
    "###############################\n",
    "##################################\n",
    "## Scaling Continuous features\n",
    "\n",
    "pdata[\"loss\"] = np.log(pdata[\"loss\"])\n",
    "print(NumFeatures)\n",
    "scaler = MinMaxScaler()\n",
    "pdata[NumFeatures] = scaler.fit_transform(pdata[NumFeatures])\n",
    "\n",
    "\n",
    "        \n",
    "        \n",
    "for f in catFeatures:\n",
    "    lb = LabelEncoder()\n",
    "    lb.fit(pdata[f].unique())\n",
    "    pdata[f] = lb.transform(pdata[f])\n",
    "\n",
    "NumFeatures.remove('loss')\n"
   ]
  },
  {
   "cell_type": "markdown",
   "metadata": {},
   "source": [
    "### 5 Data Shape"
   ]
  },
  {
   "cell_type": "code",
   "execution_count": 19,
   "metadata": {
    "collapsed": false
   },
   "outputs": [
    {
     "name": "stdout",
     "output_type": "stream",
     "text": [
      "(188318, 131)\n"
     ]
    }
   ],
   "source": [
    "print(pdata.shape)\n"
   ]
  },
  {
   "cell_type": "markdown",
   "metadata": {
    "collapsed": true
   },
   "source": [
    "### 6 Performance measures\n",
    "* ###  As we are trying to predict a linear target variable, we will be using Mean absolute error as the performance measure, and choose the models that give minimum MeanAbsoluteError for predicting the final values. \n",
    "* ### We have also included negative mean squared error scores.\n",
    "\n"
   ]
  },
  {
   "cell_type": "markdown",
   "metadata": {
    "collapsed": true
   },
   "source": [
    "### 7 Baseline measures."
   ]
  },
  {
   "cell_type": "code",
   "execution_count": 5,
   "metadata": {
    "collapsed": false
   },
   "outputs": [
    {
     "name": "stdout",
     "output_type": "stream",
     "text": [
      "['cat1', 'cat2', 'cat3', 'cat4', 'cat5', 'cat6', 'cat7', 'cat8', 'cat9', 'cat10', 'cat11', 'cat12', 'cat13', 'cat14', 'cat15', 'cat16', 'cat17', 'cat18', 'cat19', 'cat20', 'cat21', 'cat22', 'cat23', 'cat24', 'cat25', 'cat26', 'cat27', 'cat28', 'cat29', 'cat30', 'cat31', 'cat32', 'cat33', 'cat34', 'cat35', 'cat36', 'cat37', 'cat38', 'cat39', 'cat40', 'cat41', 'cat42', 'cat43', 'cat44', 'cat45', 'cat46', 'cat47', 'cat48', 'cat49', 'cat50', 'cat51', 'cat52', 'cat53', 'cat54', 'cat55', 'cat56', 'cat57', 'cat58', 'cat59', 'cat60', 'cat61', 'cat62', 'cat63', 'cat64', 'cat65', 'cat66', 'cat67', 'cat68', 'cat69', 'cat70', 'cat71', 'cat72', 'cat73', 'cat74', 'cat75', 'cat76', 'cat77', 'cat78', 'cat79', 'cat80', 'cat81', 'cat82', 'cat83', 'cat84', 'cat85', 'cat86', 'cat87', 'cat88', 'cat89', 'cat90', 'cat91', 'cat92', 'cat93', 'cat94', 'cat95', 'cat96', 'cat97', 'cat98', 'cat99', 'cat100', 'cat101', 'cat102', 'cat103', 'cat104', 'cat105', 'cat106', 'cat107', 'cat108', 'cat109', 'cat110', 'cat111', 'cat112', 'cat113', 'cat114', 'cat115', 'cat116']\n",
      "0         0.669413\n",
      "1         0.624407\n",
      "2         0.694684\n",
      "3         0.598655\n",
      "4         0.687770\n",
      "5         0.739074\n",
      "6         0.614040\n",
      "7         0.709279\n",
      "8         0.796295\n",
      "9         0.754313\n",
      "10        0.757100\n",
      "11        0.751336\n",
      "12        0.618363\n",
      "13        0.609507\n",
      "14        0.559512\n",
      "15        0.631310\n",
      "16        0.759800\n",
      "17        0.684566\n",
      "18        0.721697\n",
      "19        0.714028\n",
      "20        0.615720\n",
      "21        0.594259\n",
      "22        0.581754\n",
      "23        0.582357\n",
      "24        0.767518\n",
      "25        0.638846\n",
      "26        0.733151\n",
      "27        0.667556\n",
      "28        0.806792\n",
      "29        0.650179\n",
      "            ...   \n",
      "188288    0.675583\n",
      "188289    0.600502\n",
      "188290    0.688434\n",
      "188291    0.667314\n",
      "188292    0.567462\n",
      "188293    0.724321\n",
      "188294    0.727048\n",
      "188295    0.660880\n",
      "188296    0.835733\n",
      "188297    0.730226\n",
      "188298    0.699914\n",
      "188299    0.658789\n",
      "188300    0.589318\n",
      "188301    0.594760\n",
      "188302    0.646018\n",
      "188303    0.718389\n",
      "188304    0.809523\n",
      "188305    0.736056\n",
      "188306    0.682553\n",
      "188307    0.616984\n",
      "188308    0.667447\n",
      "188309    0.719956\n",
      "188310    0.730921\n",
      "188311    0.603354\n",
      "188312    0.585786\n",
      "188313    0.618748\n",
      "188314    0.612279\n",
      "188315    0.748474\n",
      "188316    0.640671\n",
      "188317    0.732539\n",
      "Name: loss, dtype: float64\n",
      "(188318, 130)\n"
     ]
    }
   ],
   "source": [
    "from sklearn.linear_model import LinearRegression\n",
    "from sklearn.model_selection import cross_val_score\n",
    "from sklearn.metrics import mean_absolute_error\n",
    "\n",
    "r, c =pdata.shape\n",
    "\n",
    "i_cols = []\n",
    "for i in range(0,c-1):\n",
    "    i_cols.append(i)\n",
    "\n",
    "#Y is the target column, X has the rest\n",
    "print(catFeatures)\n",
    "\n",
    "X = NumFeatures + catFeatures\n",
    "X = pdata[X]\n",
    "Y = pdata['loss']\n",
    "\n",
    "\n",
    "print(Y)\n",
    "print(X.shape)"
   ]
  },
  {
   "cell_type": "code",
   "execution_count": 6,
   "metadata": {
    "collapsed": false
   },
   "outputs": [
    {
     "name": "stderr",
     "output_type": "stream",
     "text": [
      "/home/raz/anaconda3/lib/python3.5/site-packages/sklearn/cross_validation.py:44: DeprecationWarning: This module was deprecated in version 0.18 in favor of the model_selection module into which all the refactored classes and functions are moved. Also note that the interface of the new CV iterators are different from that of this module. This module will be removed in 0.20.\n",
      "  \"This module will be removed in 0.20.\", DeprecationWarning)\n"
     ]
    }
   ],
   "source": [
    "from sklearn.dummy import DummyRegressor\n",
    "from sklearn.linear_model import LinearRegression\n",
    "from sklearn.model_selection import cross_val_score\n",
    "from sklearn.metrics import mean_absolute_error\n",
    "from xgboost import XGBRegressor\n",
    "from sklearn.metrics import mean_absolute_error\n"
   ]
  },
  {
   "cell_type": "markdown",
   "metadata": {},
   "source": [
    "### 7 Baseline performance using SKlearns Dummyregressor "
   ]
  },
  {
   "cell_type": "code",
   "execution_count": 7,
   "metadata": {
    "collapsed": false
   },
   "outputs": [
    {
     "name": "stdout",
     "output_type": "stream",
     "text": [
      " 0.0545299912824\n",
      "0.0545298792336\n"
     ]
    }
   ],
   "source": [
    "model = DummyRegressor(strategy='mean')\n",
    "result = cross_val_score(model, X, Y ,scoring='neg_mean_absolute_error' ,cv=10)\n",
    "\n",
    "##USE more cpu\n",
    "\n",
    "model1 = LinearRegression(n_jobs=-1)\n",
    "result = np.mean(result)\n",
    "result = -1*result\n",
    "print(\" %s\" % result)\n",
    "\n",
    "model.fit(X,Y)\n",
    "Y_pred=model.predict(X)\n",
    "print(mean_absolute_error(Y,Y_pred))\n",
    "\n",
    "del model"
   ]
  },
  {
   "cell_type": "markdown",
   "metadata": {},
   "source": [
    "## Evaluating linear models "
   ]
  },
  {
   "cell_type": "markdown",
   "metadata": {},
   "source": [
    "### Simple linear regression"
   ]
  },
  {
   "cell_type": "code",
   "execution_count": 8,
   "metadata": {
    "collapsed": false
   },
   "outputs": [
    {
     "name": "stdout",
     "output_type": "stream",
     "text": [
      " 0.0376802485256\n",
      "0.0376507829398\n"
     ]
    }
   ],
   "source": [
    "seed = 0 \n",
    "cv = 10\n",
    "\n",
    "model = LinearRegression(n_jobs=-1, normalize=1)\n",
    "result = cross_val_score(model, X, Y ,scoring='neg_mean_absolute_error' ,cv=10)\n",
    "\n",
    "model = LinearRegression(n_jobs=-1)\n",
    "result = np.mean(result)\n",
    "result = -1*result\n",
    "print(\" %s\" % result)\n",
    "\n",
    "model.fit(X,Y)\n",
    "Y_pred=model.predict(X)\n",
    "print(mean_absolute_error(Y,Y_pred))\n",
    "\n",
    "del model\n"
   ]
  },
  {
   "cell_type": "markdown",
   "metadata": {},
   "source": [
    "### XGB performed best among selected regressors, we also observed that it performs better with incresed number of estimators \n"
   ]
  },
  {
   "cell_type": "code",
   "execution_count": 9,
   "metadata": {
    "collapsed": false
   },
   "outputs": [
    {
     "name": "stdout",
     "output_type": "stream",
     "text": [
      " 0.037015635858\n",
      "0.0369248597406\n"
     ]
    }
   ],
   "source": [
    "model = XGBRegressor(n_estimators=70,seed=0)\n",
    "result = cross_val_score(model, X, Y ,scoring='neg_mean_absolute_error' ,cv=10)\n",
    "\n",
    "result = np.mean(result)\n",
    "result = -1*result\n",
    "print(\" %s\" % result)\n",
    "\n",
    "model.fit(X,Y)\n",
    "Y_pred=model.predict(X)\n",
    "print(mean_absolute_error(Y,Y_pred))\n",
    "\n",
    "del model"
   ]
  },
  {
   "cell_type": "markdown",
   "metadata": {},
   "source": [
    "### We observed the model using Lasso performed better with lower alpha and tolerence values."
   ]
  },
  {
   "cell_type": "code",
   "execution_count": 10,
   "metadata": {
    "collapsed": false
   },
   "outputs": [
    {
     "name": "stdout",
     "output_type": "stream",
     "text": [
      " 0.0404703480264\n",
      "0.0404640734379\n"
     ]
    }
   ],
   "source": [
    "from sklearn import linear_model\n",
    "\n",
    "model = linear_model.Lasso(alpha=0.002,random_state=seed, tol=1)\n",
    "result = cross_val_score(model, X, Y ,scoring='neg_mean_absolute_error' ,cv=10)\n",
    "result = np.mean(result)\n",
    "result = -1*result\n",
    "print(\" %s\" % result)\n",
    "\n",
    "\n",
    "model.fit(X,Y)\n",
    "Y_pred=model.predict(X)\n",
    "print(mean_absolute_error(Y,Y_pred))\n",
    "\n",
    "del model"
   ]
  },
  {
   "cell_type": "markdown",
   "metadata": {},
   "source": [
    "# 7. Important feature selection"
   ]
  },
  {
   "cell_type": "code",
   "execution_count": 11,
   "metadata": {
    "collapsed": false
   },
   "outputs": [
    {
     "name": "stdout",
     "output_type": "stream",
     "text": [
      " 0.037015635858\n"
     ]
    },
    {
     "data": {
      "text/plain": [
       "XGBRegressor(base_score=0.5, colsample_bylevel=1, colsample_bytree=1, gamma=0,\n",
       "       learning_rate=0.1, max_delta_step=0, max_depth=3,\n",
       "       min_child_weight=1, missing=None, n_estimators=70, nthread=-1,\n",
       "       objective='reg:linear', reg_alpha=0, reg_lambda=1,\n",
       "       scale_pos_weight=1, seed=0, silent=True, subsample=1)"
      ]
     },
     "execution_count": 11,
     "metadata": {},
     "output_type": "execute_result"
    }
   ],
   "source": [
    "model = XGBRegressor(n_estimators=70,seed=0)\n",
    "result = cross_val_score(model, X, Y ,scoring='neg_mean_absolute_error' ,cv=10)\n",
    "\n",
    "result = np.mean(result)\n",
    "result = -1*result\n",
    "print(\" %s\" % result)\n",
    "\n",
    "\n",
    "model.fit(X,Y)"
   ]
  },
  {
   "cell_type": "code",
   "execution_count": 17,
   "metadata": {
    "collapsed": false
   },
   "outputs": [
    {
     "data": {
      "text/plain": [
       "<matplotlib.axes._subplots.AxesSubplot at 0x7f4f274300b8>"
      ]
     },
     "execution_count": 17,
     "metadata": {},
     "output_type": "execute_result"
    },
    {
     "data": {
      "text/plain": [
       "<matplotlib.figure.Figure at 0x7f4f268a8f98>"
      ]
     },
     "metadata": {},
     "output_type": "display_data"
    },
    {
     "data": {
      "image/png": "[encoded data removed]",
      "text/plain": [
       "<matplotlib.figure.Figure at 0x7f4f3c3fe978>"
      ]
     },
     "metadata": {},
     "output_type": "display_data"
    }
   ],
   "source": [
    "from matplotlib import pylab as plt\n",
    "import operator \n",
    "%matplotlib inline\n",
    "\n",
    "ftr_imp = model.booster().get_fscore()\n",
    "ftr_imp = sorted(ftr_imp.items(), key=operator.itemgetter(1))\n",
    "fdata = pd.DataFrame(ftr_imp, columns=['feature', 'fscore'])\n",
    "fdata['fs'] = fdata['fscore'] / fdata['fscore'].sum()\n",
    "\n",
    "plt.figure()\n",
    "fdata.plot(kind='barh', x='feature', y='fscore', legend=False, figsize=(6, 10))\n"
   ]
  },
  {
   "cell_type": "markdown",
   "metadata": {},
   "source": [
    "### Conclusion\n"
   ]
  },
  {
   "cell_type": "markdown",
   "metadata": {
    "collapsed": false
   },
   "source": [
    "### For given data\n",
    "   * ###  continuous feature carry more weight.\n",
    "   * ###  Iterations tend to improve model performance to some extent.\n",
    "   * ### Complex transformation could give better accuracy but also result in more computational complexity."
   ]
  }
 ],
 "metadata": {
  "anaconda-cloud": {
   "attach-environment": true,
   "environment": "Root",
   "summary": "584project",
   "thumbnail": "data:image/png;base64,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",
   "url": "https://anaconda.org/rpwr021/ratnakar_pawar"
  },
  "kernelspec": {
   "display_name": "Python [Root]",
   "language": "python",
   "name": "Python [Root]"
  },
  "language_info": {
   "codemirror_mode": {
    "name": "ipython",
    "version": 3
   },
   "file_extension": ".py",
   "mimetype": "text/x-python",
   "name": "python",
   "nbconvert_exporter": "python",
   "pygments_lexer": "ipython3",
   "version": "3.5.2"
  }
 },
 "nbformat": 4,
 "nbformat_minor": 0
}
